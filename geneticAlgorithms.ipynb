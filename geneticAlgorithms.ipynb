{
 "cells": [
  {
   "cell_type": "code",
   "execution_count": 67,
   "id": "thirty-engine",
   "metadata": {},
   "outputs": [],
   "source": [
    "# Problem 1: Analysis of Particle Swarm Optimisation (c.2) (10%)\n",
    "\n",
    "# Packages\n",
    "import numpy as np\n",
    "import random as rand\n",
    "import matplotlib.pyplot as plt\n",
    "\n",
    "# Functions\n",
    "def epsilon_close(x, y):\n",
    "    return abs(x - y) < 0.001\n",
    "\n",
    "def sphere(d, x):\n",
    "    return np.sum(x**2)\n",
    "\n",
    "def rastragin(d, x):\n",
    "    return 10 * d + np.sum(x**2 - 10 * np.cos(2 * np.pi * x))\n",
    "\n",
    "def repulsion(d, N, X):\n",
    "    Z = np.array([X-x for x in X])\n",
    "    for i, x in enumerate(X):\n",
    "        Y = np.linalg.norm(Z[i], axis=1)**2\n",
    "        Y = np.repeat([Y], d, axis=0).T\n",
    "        Z[i] /= (Y + 0.001)\n",
    "    return -np.sum(Z, axis=0) / max((N-1), 1)\n",
    "\n",
    "# Constants\n",
    "d = 3 # Dimension\n",
    "N = 20 # Number of particles\n",
    "b = 5.12 # Bounds\n",
    "reg = 0.1 # Speed regularizer\n",
    "\n",
    "# Termination criteria:\n",
    "trials = 5 # Number of trials\n",
    "MAXT = np.array(range(100, 1001, 100)) # Max allowed iterations\n",
    "\n",
    "def run(f, mod, a, w):\n",
    "    F_G = np.zeros((len(MAXT), trials)) # Global fitness at convergence by max allowed iterations and trial\n",
    "    for k, T in enumerate(MAXT):\n",
    "        for j in range(trials):\n",
    "\n",
    "            # Mutable state\n",
    "            X = np.array([np.array([rand.uniform(-b, b) for _ in range(d)]) for _ in range(N)]) # Particle positions\n",
    "            V = np.array([np.array([rand.uniform(-1, 1) for _ in range(d)]) for _ in range(N)]) # Particle velocities\n",
    "            for i, v in enumerate(V):\n",
    "                V[i] = v / np.linalg.norm(v) * 2 * b * reg\n",
    "            P = X # Particle position PBs\n",
    "            F_p = np.array([f(d, p) for p in P]) # Particle fitness PBs\n",
    "            g = P[np.argmin(F_p)] # Position GB\n",
    "            f_g = np.min(F_p) # Fitness GB\n",
    "            t = 0 # Time since last GB update\n",
    "            Z = np.zeros(X.shape)\n",
    "            if mod:\n",
    "                Z = repulsion(d, N, X)\n",
    "            # Find minimum of objective function\n",
    "            for itr in range(T):\n",
    "                # Update fitness\n",
    "                for i, x in enumerate(X):\n",
    "                    f_i = f(d, x)\n",
    "                    if f_i < F_p[i]: # Personal best\n",
    "                        P[i] = x\n",
    "                        F_p[i] = f_i\n",
    "                    if f_i < f_g: # Global best\n",
    "                        g = x\n",
    "                        f_g = f_i\n",
    "                        t = 0 # Reset time since last GB\n",
    "                for i, v in enumerate(V):\n",
    "                    # Velocity update\n",
    "                    r1 = np.array([rand.uniform(0, 1) for _ in range(d)])\n",
    "                    r2 = np.array([rand.uniform(0, 1) for _ in range(d)])\n",
    "                    r3 = np.array([rand.uniform(0, 1) for _ in range(d)])\n",
    "                    V[i] = w * v + a * r1 * (P[i] - X[i]) + a * r2 * (g - X[i]) + a * r3 * Z[i]\n",
    "                    X[i] = X[i] + V[i]\n",
    "                    # Cap the speed\n",
    "                    if np.linalg.norm(v) > reg * b:\n",
    "                        V[i] *= reg * b / (np.linalg.norm(v))\n",
    "                    # If exiting bounds, random re-initialisation\n",
    "                    for x_i in X[i]:\n",
    "                        if x_i < -b or b < x_i:\n",
    "                            X[i] = np.array([rand.uniform(-b, b) for _ in range(d)])\n",
    "                            break\n",
    "\n",
    "                # Check for stagnation\n",
    "                t += 1\n",
    "                if t > T // 2:\n",
    "                    break\n",
    "                # Check for convergence\n",
    "                if epsilon_close(f_g, 0):\n",
    "                    break\n",
    "\n",
    "            # Record global fitness\n",
    "            F_G[k][j] = f_g\n",
    "    return F_G"
   ]
  },
  {
   "cell_type": "code",
   "execution_count": 49,
   "id": "independent-scott",
   "metadata": {},
   "outputs": [
    {
     "name": "stdout",
     "output_type": "stream",
     "text": [
      "[ 8.96582659 16.60666282 14.82399574 12.71624913  8.55577715  8.67305188\n",
      "  8.31648871  6.1792781  15.04042592  7.98646257]\n",
      "[ 9.49242736 16.12914072  7.63347818 28.95955345 25.4350681   5.50688407\n",
      "  7.55011192 18.05610679  8.48083492  7.62063633]\n",
      "[1.17267195 2.80632015 1.12871076 0.2737072  0.79604205 3.20918888\n",
      " 0.60703106 0.43347679 0.11232278 0.08166327]\n",
      "[ 6.14886974  7.17887128 12.53478301  6.26394769  9.52466519  8.48363052\n",
      " 12.66088935  9.13830762  6.30018414  4.38697568]\n",
      "[ 7.28585326  1.98165676  7.15548706  4.95720017  0.01826434  7.97191932\n",
      "  5.66239144  3.14200435 12.89782652  6.47594761]\n",
      "[ 0.51855128  5.44126843  5.60855769  1.25137536 19.4117323   2.83465902\n",
      "  4.95372178  6.83854522  5.12023961  3.87354765]\n",
      "[0.50329785 0.43246531 0.96597444 0.24199098 0.07302154 0.3582854\n",
      " 0.1877174  0.05226002 0.0105276  0.03721076]\n",
      "[1.64386264 0.14255694 1.72473893 3.91352473 1.5016797  0.86158194\n",
      " 2.71717707 3.07969507 0.0960675  0.51279218]\n"
     ]
    }
   ],
   "source": [
    "# Problem 1.c2 analysis\n",
    "print(np.average(F_G_SPHERE, axis=1))\n",
    "print(np.average(F_G_RASTRA, axis=1))\n",
    "print(np.average(F_G_SPHERE_M, axis=1))\n",
    "print(np.average(F_G_RASTRA_M, axis=1))\n",
    "\n",
    "print(np.std(F_G_SPHERE, axis=1))\n",
    "print(np.std(F_G_RASTRA, axis=1))\n",
    "print(np.std(F_G_SPHERE_M, axis=1))\n",
    "print(np.std(F_G_RASTRA_M, axis=1))"
   ]
  },
  {
   "cell_type": "code",
   "execution_count": 68,
   "id": "official-documentation",
   "metadata": {},
   "outputs": [],
   "source": [
    "F_G_SPHERE = run(f = sphere, mod = False, a = 1.98079561042, w = 0.026063100137)\n",
    "F_G_RASTRA = run(f = rastragin, mod = False, a = 3.66773357719, w = -0.090992226794)\n",
    "F_G_SPHERE_M = run(f = sphere, mod = True, a = 1.3205304069466666, w = 0.026063100137)\n",
    "F_G_RASTRA_M = run(f = rastragin, mod = True, a = 2.4451557181266668, w = -0.090992226794)"
   ]
  },
  {
   "cell_type": "code",
   "execution_count": 69,
   "id": "protective-classification",
   "metadata": {},
   "outputs": [
    {
     "data": {
      "image/png": "[encoded data removed]",
      "text/plain": [
       "<Figure size 432x288 with 1 Axes>"
      ]
     },
     "metadata": {
      "needs_background": "light"
     },
     "output_type": "display_data"
    },
    {
     "data": {
      "image/png": "[encoded data removed]",
      "text/plain": [
       "<Figure size 432x288 with 1 Axes>"
      ]
     },
     "metadata": {
      "needs_background": "light"
     },
     "output_type": "display_data"
    },
    {
     "data": {
      "image/png": "[encoded data removed]",
      "text/plain": [
       "<Figure size 432x288 with 1 Axes>"
      ]
     },
     "metadata": {
      "needs_background": "light"
     },
     "output_type": "display_data"
    },
    {
     "data": {
      "image/png": "[encoded data removed]",
      "text/plain": [
       "<Figure size 432x288 with 1 Axes>"
      ]
     },
     "metadata": {
      "needs_background": "light"
     },
     "output_type": "display_data"
    }
   ],
   "source": [
    "# Sphere, nomod\n",
    "plt.scatter(np.repeat(MAXT, trials), F_G_SPHERE, c='#000000',marker='.')\n",
    "plt.errorbar(MAXT, np.average(F_G_SPHERE,axis=1), np.std(F_G_SPHERE,axis=1), ecolor='blue', c='#FF0000', linestyle='None', marker='o')\n",
    "plt.show()\n",
    "# Rastragin, nomod\n",
    "plt.scatter(np.repeat(MAXT, trials), F_G_RASTRA, c='#000000',marker='.')\n",
    "plt.errorbar(MAXT, np.average(F_G_RASTRA,axis=1), np.std(F_G_RASTRA,axis=1), ecolor='blue', c='#FF0000', linestyle='None', marker='o')\n",
    "plt.show()\n",
    "# Sphere, mod\n",
    "plt.scatter(np.repeat(MAXT, trials), F_G_SPHERE_M, c='#000000',marker='.')\n",
    "plt.errorbar(MAXT, np.average(F_G_SPHERE_M,axis=1), np.std(F_G_SPHERE_M,axis=1), ecolor='blue', c='#FF0000', linestyle='None', marker='o')\n",
    "plt.show()\n",
    "# Rastragin, mod\n",
    "plt.scatter(np.repeat(MAXT, trials), F_G_RASTRA_M, c='#000000',marker='.')\n",
    "plt.errorbar(MAXT, np.average(F_G_RASTRA_M,axis=1), np.std(F_G_RASTRA_M,axis=1), ecolor='blue', c='#FF0000', linestyle='None', marker='o')\n",
    "plt.show()"
   ]
  }
 ],
 "metadata": {
  "kernelspec": {
   "display_name": "Python 3",
   "language": "python",
   "name": "python3"
  },
  "language_info": {
   "codemirror_mode": {
    "name": "ipython",
    "version": 3
   },
   "file_extension": ".py",
   "mimetype": "text/x-python",
   "name": "python",
   "nbconvert_exporter": "python",
   "pygments_lexer": "ipython3",
   "version": "3.8.3"
  }
 },
 "nbformat": 4,
 "nbformat_minor": 5
}
